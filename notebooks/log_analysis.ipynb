{
 "cells": [
  {
   "cell_type": "code",
   "execution_count": 63,
   "metadata": {},
   "outputs": [],
   "source": [
    "import numpy as np\n",
    "import pandas as pd\n",
    "raw_data = '/Users/elenasmith/Documents/women_in_red/data/'"
   ]
  },
  {
   "cell_type": "code",
   "execution_count": 64,
   "metadata": {},
   "outputs": [],
   "source": [
    "def update_df(df, row_to_add):\n",
    "    if df.shape[0] == 0:\n",
    "        df = pd.DataFrame(row_to_add,index=[0])\n",
    "    else:\n",
    "        temp = pd.DataFrame(row_to_add,index=[0])\n",
    "        df = df.append(temp)\n",
    "    return df"
   ]
  },
  {
   "cell_type": "code",
   "execution_count": 65,
   "metadata": {},
   "outputs": [],
   "source": [
    "log_file = open('{}archive_extract_logs_703__logs_20190902.txt'.format(raw_data), 'r')\n",
    "\n",
    "# identify functions for which to extract runtimes \n",
    "functions = ['find_indiv_afd_by_id','find_afd_stats_by_id']"
   ]
  },
  {
   "cell_type": "code",
   "execution_count": 66,
   "metadata": {},
   "outputs": [],
   "source": [
    "fx_logs = pd.DataFrame()\n",
    "for line in log_file:\n",
    "    if 'ms' in line:\n",
    "        if any(fx in line for fx in functions):\n",
    "            new_row = {\"function\": line.split(' ')[2],\n",
    "                       \"time\": line.split(' ')[4],\n",
    "                       \"run_date\": line.split(' ')[1].split('/[$LATEST]')[0]}\n",
    "            fx_logs = update_df(fx_logs,new_row)"
   ]
  },
  {
   "cell_type": "code",
   "execution_count": 67,
   "metadata": {},
   "outputs": [
    {
     "data": {
      "text/html": [
       "<div>\n",
       "<style scoped>\n",
       "    .dataframe tbody tr th:only-of-type {\n",
       "        vertical-align: middle;\n",
       "    }\n",
       "\n",
       "    .dataframe tbody tr th {\n",
       "        vertical-align: top;\n",
       "    }\n",
       "\n",
       "    .dataframe thead th {\n",
       "        text-align: right;\n",
       "    }\n",
       "</style>\n",
       "<table border=\"1\" class=\"dataframe\">\n",
       "  <thead>\n",
       "    <tr style=\"text-align: right;\">\n",
       "      <th></th>\n",
       "      <th>function</th>\n",
       "      <th>time</th>\n",
       "      <th>run_date</th>\n",
       "    </tr>\n",
       "  </thead>\n",
       "  <tbody>\n",
       "    <tr>\n",
       "      <th>0</th>\n",
       "      <td>find_indiv_afd_by_id</td>\n",
       "      <td>2.045154571533203ms\\n</td>\n",
       "      <td>2019/09/02</td>\n",
       "    </tr>\n",
       "    <tr>\n",
       "      <th>0</th>\n",
       "      <td>find_indiv_afd_by_id</td>\n",
       "      <td>59.0662956237793ms\\n</td>\n",
       "      <td>2019/09/02</td>\n",
       "    </tr>\n",
       "    <tr>\n",
       "      <th>0</th>\n",
       "      <td>find_indiv_afd_by_id</td>\n",
       "      <td>60.34731864929199ms\\n</td>\n",
       "      <td>2019/09/02</td>\n",
       "    </tr>\n",
       "  </tbody>\n",
       "</table>\n",
       "</div>"
      ],
      "text/plain": [
       "               function                   time    run_date\n",
       "0  find_indiv_afd_by_id  2.045154571533203ms\\n  2019/09/02\n",
       "0  find_indiv_afd_by_id   59.0662956237793ms\\n  2019/09/02\n",
       "0  find_indiv_afd_by_id  60.34731864929199ms\\n  2019/09/02"
      ]
     },
     "execution_count": 67,
     "metadata": {},
     "output_type": "execute_result"
    }
   ],
   "source": [
    "fx_logs[0:3]"
   ]
  },
  {
   "cell_type": "code",
   "execution_count": 68,
   "metadata": {},
   "outputs": [],
   "source": [
    "fx_logs['time'] = fx_logs['time'].apply(lambda x: float(x.replace(\"ms\\n\",\"\")))\n",
    "fx_logs['run_date'] = pd.to_datetime(fx_logs['run_date'])"
   ]
  },
  {
   "cell_type": "code",
   "execution_count": 69,
   "metadata": {},
   "outputs": [
    {
     "data": {
      "text/html": [
       "<div>\n",
       "<style scoped>\n",
       "    .dataframe tbody tr th:only-of-type {\n",
       "        vertical-align: middle;\n",
       "    }\n",
       "\n",
       "    .dataframe tbody tr th {\n",
       "        vertical-align: top;\n",
       "    }\n",
       "\n",
       "    .dataframe thead th {\n",
       "        text-align: right;\n",
       "    }\n",
       "</style>\n",
       "<table border=\"1\" class=\"dataframe\">\n",
       "  <thead>\n",
       "    <tr style=\"text-align: right;\">\n",
       "      <th></th>\n",
       "      <th>function</th>\n",
       "      <th>time</th>\n",
       "      <th>run_date</th>\n",
       "    </tr>\n",
       "  </thead>\n",
       "  <tbody>\n",
       "    <tr>\n",
       "      <th>0</th>\n",
       "      <td>find_indiv_afd_by_id</td>\n",
       "      <td>2.045155</td>\n",
       "      <td>2019-09-02</td>\n",
       "    </tr>\n",
       "    <tr>\n",
       "      <th>0</th>\n",
       "      <td>find_indiv_afd_by_id</td>\n",
       "      <td>59.066296</td>\n",
       "      <td>2019-09-02</td>\n",
       "    </tr>\n",
       "    <tr>\n",
       "      <th>0</th>\n",
       "      <td>find_indiv_afd_by_id</td>\n",
       "      <td>60.347319</td>\n",
       "      <td>2019-09-02</td>\n",
       "    </tr>\n",
       "  </tbody>\n",
       "</table>\n",
       "</div>"
      ],
      "text/plain": [
       "               function       time   run_date\n",
       "0  find_indiv_afd_by_id   2.045155 2019-09-02\n",
       "0  find_indiv_afd_by_id  59.066296 2019-09-02\n",
       "0  find_indiv_afd_by_id  60.347319 2019-09-02"
      ]
     },
     "execution_count": 69,
     "metadata": {},
     "output_type": "execute_result"
    }
   ],
   "source": [
    "fx_logs[0:3]"
   ]
  },
  {
   "cell_type": "code",
   "execution_count": 74,
   "metadata": {},
   "outputs": [
    {
     "data": {
      "text/html": [
       "<div>\n",
       "<style scoped>\n",
       "    .dataframe tbody tr th:only-of-type {\n",
       "        vertical-align: middle;\n",
       "    }\n",
       "\n",
       "    .dataframe tbody tr th {\n",
       "        vertical-align: top;\n",
       "    }\n",
       "\n",
       "    .dataframe thead th {\n",
       "        text-align: right;\n",
       "    }\n",
       "</style>\n",
       "<table border=\"1\" class=\"dataframe\">\n",
       "  <thead>\n",
       "    <tr style=\"text-align: right;\">\n",
       "      <th></th>\n",
       "      <th></th>\n",
       "      <th>time</th>\n",
       "    </tr>\n",
       "    <tr>\n",
       "      <th>function</th>\n",
       "      <th>run_date</th>\n",
       "      <th></th>\n",
       "    </tr>\n",
       "  </thead>\n",
       "  <tbody>\n",
       "    <tr>\n",
       "      <th rowspan=\"2\" valign=\"top\">find_afd_stats_by_id</th>\n",
       "      <th>2019-09-02</th>\n",
       "      <td>[2357, 961, 918, 58, 559]</td>\n",
       "    </tr>\n",
       "    <tr>\n",
       "      <th>2019-09-03</th>\n",
       "      <td>[2400, 942, 839, 58, 593]</td>\n",
       "    </tr>\n",
       "    <tr>\n",
       "      <th rowspan=\"2\" valign=\"top\">find_indiv_afd_by_id</th>\n",
       "      <th>2019-09-02</th>\n",
       "      <td>[2379, 959, 901, 2, 559]</td>\n",
       "    </tr>\n",
       "    <tr>\n",
       "      <th>2019-09-03</th>\n",
       "      <td>[2379, 943, 840, 58, 593]</td>\n",
       "    </tr>\n",
       "  </tbody>\n",
       "</table>\n",
       "</div>"
      ],
      "text/plain": [
       "                                                      time\n",
       "function             run_date                             \n",
       "find_afd_stats_by_id 2019-09-02  [2357, 961, 918, 58, 559]\n",
       "                     2019-09-03  [2400, 942, 839, 58, 593]\n",
       "find_indiv_afd_by_id 2019-09-02   [2379, 959, 901, 2, 559]\n",
       "                     2019-09-03  [2379, 943, 840, 58, 593]"
      ]
     },
     "execution_count": 74,
     "metadata": {},
     "output_type": "execute_result"
    }
   ],
   "source": [
    "fx_logs.groupby(['function','run_date']).agg({\"time\": lambda x: [int(np.max(x)), \n",
    "                                                                 int(np.mean(x)), \n",
    "                                                                 int(np.median(x)),\n",
    "                                                                 int(np.min(x)),\n",
    "                                                                 len(x)]})"
   ]
  }
 ],
 "metadata": {
  "kernelspec": {
   "display_name": "Python 3",
   "language": "python",
   "name": "python3"
  },
  "language_info": {
   "codemirror_mode": {
    "name": "ipython",
    "version": 3
   },
   "file_extension": ".py",
   "mimetype": "text/x-python",
   "name": "python",
   "nbconvert_exporter": "python",
   "pygments_lexer": "ipython3",
   "version": "3.7.3"
  }
 },
 "nbformat": 4,
 "nbformat_minor": 2
}
